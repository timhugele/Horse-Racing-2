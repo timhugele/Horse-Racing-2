{
 "cells": [
  {
   "cell_type": "code",
   "execution_count": 1,
   "metadata": {},
   "outputs": [],
   "source": [
    "import numpy as np\n",
    "import pandas as pd\n",
    "\n",
    "import re\n",
    "import os\n",
    "import time\n",
    "import random\n",
    "import requests\n",
    "import numpy as np\n",
    "import pandas as pd\n",
    "from os import system\n",
    "from math import floor\n",
    "from copy import deepcopy\n",
    "from bs4 import BeautifulSoup\n",
    "from selenium import webdriver\n",
    "from selenium.webdriver.common.by import By\n",
    "from selenium.webdriver.common.keys import Keys\n",
    "from selenium.common.exceptions import TimeoutException\n",
    "from selenium.webdriver.support.ui import WebDriverWait\n",
    "from selenium.webdriver.support import expected_conditions as EC\n",
    "\n",
    "from selenium.webdriver.support.ui import Select\n",
    "\n",
    "from selenium import webdriver"
   ]
  },
  {
   "cell_type": "code",
   "execution_count": 6,
   "metadata": {},
   "outputs": [],
   "source": [
    "# url = \"https://racing.hkjc.com/racing/information/English/racing/LocalResults.aspx\"\n",
    "# driver = webdriver.Chrome(executable_path=r'/Users/timothyphugele/Downloads/chromedriver')\n",
    "# driver.get(url)\n",
    "\n",
    "# time.sleep(1)\n",
    "# scraped_dates = driver.find_element_by_xpath('/html/body/div[1]/div[3]/p/span[2]').text"
   ]
  },
  {
   "cell_type": "code",
   "execution_count": 7,
   "metadata": {},
   "outputs": [],
   "source": [
    "# scraped_dates = scraped_dates.split('\\n')"
   ]
  },
  {
   "cell_type": "code",
   "execution_count": 236,
   "metadata": {},
   "outputs": [],
   "source": [
    "# index = list(range(len(scraped_dates)))\n",
    "\n",
    "# for i in index:\n",
    "#     scraped_dates[i] = scraped_dates[i].strip()\n",
    "\n",
    "scraped_dates_2020 = scraped_dates[:28]"
   ]
  },
  {
   "cell_type": "code",
   "execution_count": 247,
   "metadata": {},
   "outputs": [
    {
     "data": {
      "text/plain": [
       "['29/03/2020',\n",
       " '25/03/2020',\n",
       " '22/03/2020',\n",
       " '18/03/2020',\n",
       " '14/03/2020',\n",
       " '11/03/2020',\n",
       " '08/03/2020',\n",
       " '04/03/2020',\n",
       " '01/03/2020',\n",
       " '26/02/2020',\n",
       " '23/02/2020',\n",
       " '19/02/2020',\n",
       " '16/02/2020',\n",
       " '12/02/2020',\n",
       " '08/02/2020',\n",
       " '05/02/2020',\n",
       " '02/02/2020',\n",
       " '29/01/2020',\n",
       " '27/01/2020',\n",
       " '22/01/2020',\n",
       " '19/01/2020',\n",
       " '15/01/2020',\n",
       " '11/01/2020',\n",
       " '08/01/2020',\n",
       " '05/01/2020',\n",
       " '01/01/2020']"
      ]
     },
     "execution_count": 247,
     "metadata": {},
     "output_type": "execute_result"
    }
   ],
   "source": [
    "scraped_dates_2020"
   ]
  },
  {
   "cell_type": "code",
   "execution_count": 223,
   "metadata": {},
   "outputs": [],
   "source": [
    "scraped_dates.remove('01/02/2020')"
   ]
  },
  {
   "cell_type": "code",
   "execution_count": 297,
   "metadata": {},
   "outputs": [
    {
     "ename": "StaleElementReferenceException",
     "evalue": "Message: stale element reference: element is not attached to the page document\n  (Session info: chrome=80.0.3987.149)\n",
     "output_type": "error",
     "traceback": [
      "\u001b[0;31m---------------------------------------------------------------------------\u001b[0m",
      "\u001b[0;31mStaleElementReferenceException\u001b[0m            Traceback (most recent call last)",
      "\u001b[0;32m<ipython-input-297-aa686ce591e8>\u001b[0m in \u001b[0;36m<module>\u001b[0;34m\u001b[0m\n\u001b[1;32m     10\u001b[0m \u001b[0;34m\u001b[0m\u001b[0m\n\u001b[1;32m     11\u001b[0m \u001b[0;32mfor\u001b[0m \u001b[0mdate_2020\u001b[0m \u001b[0;32min\u001b[0m \u001b[0mscraped_dates_2020\u001b[0m\u001b[0;34m:\u001b[0m\u001b[0;34m\u001b[0m\u001b[0;34m\u001b[0m\u001b[0m\n\u001b[0;32m---> 12\u001b[0;31m     \u001b[0mselect\u001b[0m\u001b[0;34m.\u001b[0m\u001b[0mselect_by_visible_text\u001b[0m\u001b[0;34m(\u001b[0m\u001b[0mdate_2020\u001b[0m\u001b[0;34m)\u001b[0m\u001b[0;34m\u001b[0m\u001b[0;34m\u001b[0m\u001b[0m\n\u001b[0m\u001b[1;32m     13\u001b[0m     \u001b[0mdriver\u001b[0m\u001b[0;34m.\u001b[0m\u001b[0mfind_element_by_xpath\u001b[0m\u001b[0;34m(\u001b[0m\u001b[0;34m'/html/body/div[1]/div[3]/p/span[2]/a'\u001b[0m\u001b[0;34m)\u001b[0m\u001b[0;34m.\u001b[0m\u001b[0mclick\u001b[0m\u001b[0;34m(\u001b[0m\u001b[0;34m)\u001b[0m\u001b[0;34m\u001b[0m\u001b[0;34m\u001b[0m\u001b[0m\n\u001b[1;32m     14\u001b[0m     \u001b[0mtime\u001b[0m\u001b[0;34m.\u001b[0m\u001b[0msleep\u001b[0m\u001b[0;34m(\u001b[0m\u001b[0;36m1\u001b[0m\u001b[0;34m)\u001b[0m\u001b[0;34m\u001b[0m\u001b[0;34m\u001b[0m\u001b[0m\n",
      "\u001b[0;32m~/.pyenv/versions/anaconda3-2019.10/envs/learn-env/lib/python3.6/site-packages/selenium/webdriver/support/select.py\u001b[0m in \u001b[0;36mselect_by_visible_text\u001b[0;34m(self, text)\u001b[0m\n\u001b[1;32m    115\u001b[0m            \"\"\"\n\u001b[1;32m    116\u001b[0m         \u001b[0mxpath\u001b[0m \u001b[0;34m=\u001b[0m \u001b[0;34m\".//option[normalize-space(.) = %s]\"\u001b[0m \u001b[0;34m%\u001b[0m \u001b[0mself\u001b[0m\u001b[0;34m.\u001b[0m\u001b[0m_escapeString\u001b[0m\u001b[0;34m(\u001b[0m\u001b[0mtext\u001b[0m\u001b[0;34m)\u001b[0m\u001b[0;34m\u001b[0m\u001b[0;34m\u001b[0m\u001b[0m\n\u001b[0;32m--> 117\u001b[0;31m         \u001b[0mopts\u001b[0m \u001b[0;34m=\u001b[0m \u001b[0mself\u001b[0m\u001b[0;34m.\u001b[0m\u001b[0m_el\u001b[0m\u001b[0;34m.\u001b[0m\u001b[0mfind_elements\u001b[0m\u001b[0;34m(\u001b[0m\u001b[0mBy\u001b[0m\u001b[0;34m.\u001b[0m\u001b[0mXPATH\u001b[0m\u001b[0;34m,\u001b[0m \u001b[0mxpath\u001b[0m\u001b[0;34m)\u001b[0m\u001b[0;34m\u001b[0m\u001b[0;34m\u001b[0m\u001b[0m\n\u001b[0m\u001b[1;32m    118\u001b[0m         \u001b[0mmatched\u001b[0m \u001b[0;34m=\u001b[0m \u001b[0;32mFalse\u001b[0m\u001b[0;34m\u001b[0m\u001b[0;34m\u001b[0m\u001b[0m\n\u001b[1;32m    119\u001b[0m         \u001b[0;32mfor\u001b[0m \u001b[0mopt\u001b[0m \u001b[0;32min\u001b[0m \u001b[0mopts\u001b[0m\u001b[0;34m:\u001b[0m\u001b[0;34m\u001b[0m\u001b[0;34m\u001b[0m\u001b[0m\n",
      "\u001b[0;32m~/.pyenv/versions/anaconda3-2019.10/envs/learn-env/lib/python3.6/site-packages/selenium/webdriver/remote/webelement.py\u001b[0m in \u001b[0;36mfind_elements\u001b[0;34m(self, by, value)\u001b[0m\n\u001b[1;32m    683\u001b[0m \u001b[0;34m\u001b[0m\u001b[0m\n\u001b[1;32m    684\u001b[0m         return self._execute(Command.FIND_CHILD_ELEMENTS,\n\u001b[0;32m--> 685\u001b[0;31m                              {\"using\": by, \"value\": value})['value']\n\u001b[0m\u001b[1;32m    686\u001b[0m \u001b[0;34m\u001b[0m\u001b[0m\n\u001b[1;32m    687\u001b[0m     \u001b[0;32mdef\u001b[0m \u001b[0m__hash__\u001b[0m\u001b[0;34m(\u001b[0m\u001b[0mself\u001b[0m\u001b[0;34m)\u001b[0m\u001b[0;34m:\u001b[0m\u001b[0;34m\u001b[0m\u001b[0;34m\u001b[0m\u001b[0m\n",
      "\u001b[0;32m~/.pyenv/versions/anaconda3-2019.10/envs/learn-env/lib/python3.6/site-packages/selenium/webdriver/remote/webelement.py\u001b[0m in \u001b[0;36m_execute\u001b[0;34m(self, command, params)\u001b[0m\n\u001b[1;32m    631\u001b[0m             \u001b[0mparams\u001b[0m \u001b[0;34m=\u001b[0m \u001b[0;34m{\u001b[0m\u001b[0;34m}\u001b[0m\u001b[0;34m\u001b[0m\u001b[0;34m\u001b[0m\u001b[0m\n\u001b[1;32m    632\u001b[0m         \u001b[0mparams\u001b[0m\u001b[0;34m[\u001b[0m\u001b[0;34m'id'\u001b[0m\u001b[0;34m]\u001b[0m \u001b[0;34m=\u001b[0m \u001b[0mself\u001b[0m\u001b[0;34m.\u001b[0m\u001b[0m_id\u001b[0m\u001b[0;34m\u001b[0m\u001b[0;34m\u001b[0m\u001b[0m\n\u001b[0;32m--> 633\u001b[0;31m         \u001b[0;32mreturn\u001b[0m \u001b[0mself\u001b[0m\u001b[0;34m.\u001b[0m\u001b[0m_parent\u001b[0m\u001b[0;34m.\u001b[0m\u001b[0mexecute\u001b[0m\u001b[0;34m(\u001b[0m\u001b[0mcommand\u001b[0m\u001b[0;34m,\u001b[0m \u001b[0mparams\u001b[0m\u001b[0;34m)\u001b[0m\u001b[0;34m\u001b[0m\u001b[0;34m\u001b[0m\u001b[0m\n\u001b[0m\u001b[1;32m    634\u001b[0m \u001b[0;34m\u001b[0m\u001b[0m\n\u001b[1;32m    635\u001b[0m     \u001b[0;32mdef\u001b[0m \u001b[0mfind_element\u001b[0m\u001b[0;34m(\u001b[0m\u001b[0mself\u001b[0m\u001b[0;34m,\u001b[0m \u001b[0mby\u001b[0m\u001b[0;34m=\u001b[0m\u001b[0mBy\u001b[0m\u001b[0;34m.\u001b[0m\u001b[0mID\u001b[0m\u001b[0;34m,\u001b[0m \u001b[0mvalue\u001b[0m\u001b[0;34m=\u001b[0m\u001b[0;32mNone\u001b[0m\u001b[0;34m)\u001b[0m\u001b[0;34m:\u001b[0m\u001b[0;34m\u001b[0m\u001b[0;34m\u001b[0m\u001b[0m\n",
      "\u001b[0;32m~/.pyenv/versions/anaconda3-2019.10/envs/learn-env/lib/python3.6/site-packages/selenium/webdriver/remote/webdriver.py\u001b[0m in \u001b[0;36mexecute\u001b[0;34m(self, driver_command, params)\u001b[0m\n\u001b[1;32m    319\u001b[0m         \u001b[0mresponse\u001b[0m \u001b[0;34m=\u001b[0m \u001b[0mself\u001b[0m\u001b[0;34m.\u001b[0m\u001b[0mcommand_executor\u001b[0m\u001b[0;34m.\u001b[0m\u001b[0mexecute\u001b[0m\u001b[0;34m(\u001b[0m\u001b[0mdriver_command\u001b[0m\u001b[0;34m,\u001b[0m \u001b[0mparams\u001b[0m\u001b[0;34m)\u001b[0m\u001b[0;34m\u001b[0m\u001b[0;34m\u001b[0m\u001b[0m\n\u001b[1;32m    320\u001b[0m         \u001b[0;32mif\u001b[0m \u001b[0mresponse\u001b[0m\u001b[0;34m:\u001b[0m\u001b[0;34m\u001b[0m\u001b[0;34m\u001b[0m\u001b[0m\n\u001b[0;32m--> 321\u001b[0;31m             \u001b[0mself\u001b[0m\u001b[0;34m.\u001b[0m\u001b[0merror_handler\u001b[0m\u001b[0;34m.\u001b[0m\u001b[0mcheck_response\u001b[0m\u001b[0;34m(\u001b[0m\u001b[0mresponse\u001b[0m\u001b[0;34m)\u001b[0m\u001b[0;34m\u001b[0m\u001b[0;34m\u001b[0m\u001b[0m\n\u001b[0m\u001b[1;32m    322\u001b[0m             response['value'] = self._unwrap_value(\n\u001b[1;32m    323\u001b[0m                 response.get('value', None))\n",
      "\u001b[0;32m~/.pyenv/versions/anaconda3-2019.10/envs/learn-env/lib/python3.6/site-packages/selenium/webdriver/remote/errorhandler.py\u001b[0m in \u001b[0;36mcheck_response\u001b[0;34m(self, response)\u001b[0m\n\u001b[1;32m    240\u001b[0m                 \u001b[0malert_text\u001b[0m \u001b[0;34m=\u001b[0m \u001b[0mvalue\u001b[0m\u001b[0;34m[\u001b[0m\u001b[0;34m'alert'\u001b[0m\u001b[0;34m]\u001b[0m\u001b[0;34m.\u001b[0m\u001b[0mget\u001b[0m\u001b[0;34m(\u001b[0m\u001b[0;34m'text'\u001b[0m\u001b[0;34m)\u001b[0m\u001b[0;34m\u001b[0m\u001b[0;34m\u001b[0m\u001b[0m\n\u001b[1;32m    241\u001b[0m             \u001b[0;32mraise\u001b[0m \u001b[0mexception_class\u001b[0m\u001b[0;34m(\u001b[0m\u001b[0mmessage\u001b[0m\u001b[0;34m,\u001b[0m \u001b[0mscreen\u001b[0m\u001b[0;34m,\u001b[0m \u001b[0mstacktrace\u001b[0m\u001b[0;34m,\u001b[0m \u001b[0malert_text\u001b[0m\u001b[0;34m)\u001b[0m\u001b[0;34m\u001b[0m\u001b[0;34m\u001b[0m\u001b[0m\n\u001b[0;32m--> 242\u001b[0;31m         \u001b[0;32mraise\u001b[0m \u001b[0mexception_class\u001b[0m\u001b[0;34m(\u001b[0m\u001b[0mmessage\u001b[0m\u001b[0;34m,\u001b[0m \u001b[0mscreen\u001b[0m\u001b[0;34m,\u001b[0m \u001b[0mstacktrace\u001b[0m\u001b[0;34m)\u001b[0m\u001b[0;34m\u001b[0m\u001b[0;34m\u001b[0m\u001b[0m\n\u001b[0m\u001b[1;32m    243\u001b[0m \u001b[0;34m\u001b[0m\u001b[0m\n\u001b[1;32m    244\u001b[0m     \u001b[0;32mdef\u001b[0m \u001b[0m_value_or_default\u001b[0m\u001b[0;34m(\u001b[0m\u001b[0mself\u001b[0m\u001b[0;34m,\u001b[0m \u001b[0mobj\u001b[0m\u001b[0;34m,\u001b[0m \u001b[0mkey\u001b[0m\u001b[0;34m,\u001b[0m \u001b[0mdefault\u001b[0m\u001b[0;34m)\u001b[0m\u001b[0;34m:\u001b[0m\u001b[0;34m\u001b[0m\u001b[0;34m\u001b[0m\u001b[0m\n",
      "\u001b[0;31mStaleElementReferenceException\u001b[0m: Message: stale element reference: element is not attached to the page document\n  (Session info: chrome=80.0.3987.149)\n"
     ]
    }
   ],
   "source": [
    "races_scraped = []\n",
    "\n",
    "url = \"https://racing.hkjc.com/racing/information/English/racing/LocalResults.aspx\"\n",
    "driver = webdriver.Chrome(executable_path=r'/Users/timothyphugele/Downloads/chromedriver')\n",
    "driver.get(url)\n",
    "\n",
    "time.sleep(1)\n",
    "select = Select(driver.find_element_by_xpath('/html/body/div[1]/div[3]/p/span[2]/select'))\n",
    "\n",
    "\n",
    "for date_2020 in scraped_dates_2020:\n",
    "    select.select_by_visible_text(date_2020)\n",
    "    driver.find_element_by_xpath('/html/body/div[1]/div[3]/p/span[2]/a').click()\n",
    "    time.sleep(1)\n",
    "\n",
    "    num_of_races = list(range(len(driver.find_elements_by_xpath('/html/body/div[1]/div[2]/table/tbody/tr/td/a'))))\n",
    "    res = [x + 2 for x in num_of_races]\n",
    "    \n",
    "    for i in res:\n",
    "        driver.find_element_by_xpath('/html/body/div[1]/div[2]/table/tbody/tr/td[{}]'.format(i)).click()\n",
    "    \n",
    "        horses_in_race = list(range(len(driver.find_elements_by_xpath('/html/body/div[1]/div[5]/table/tbody/tr'))))\n",
    "        for z in horses_in_race:\n",
    "            try:\n",
    "                driver.find_element_by_xpath('/html/body/div[1]/div[5]/table/tbody/tr[{}]/td'.format(z)).text\n",
    "                z = z+1\n",
    "    \n",
    "                running_position_1 == None\n",
    "                running_position_2 == None\n",
    "                running_position_3 == None\n",
    "                running_position_4 == None\n",
    "                running_position_5 == None\n",
    "                running_position_6 == None\n",
    "    \n",
    "                finishing_position = driver.find_element_by_xpath('/html/body/div[1]/div[5]/table/tbody/tr[{}]/td'.format(z)).text\n",
    "                horse_number = driver.find_element_by_xpath('/html/body/div[1]/div[5]/table/tbody/tr[{}]/td[2]'.format(z)).text\n",
    "                horse_name = driver.find_element_by_xpath('/html/body/div[1]/div[5]/table/tbody/tr[{}]/td[3]/a'.format(z)).text\n",
    "                horse_id = driver.find_element_by_xpath('/html/body/div[1]/div[5]/table/tbody/tr[{}]/td[3]'.format(z)).text.split('(')[1].strip(')')\n",
    "                jockey = driver.find_element_by_xpath('/html/body/div[1]/div[5]/table/tbody/tr[{}]/td[4]'.format(z)).text\n",
    "                trainer = driver.find_element_by_xpath('/html/body/div[1]/div[5]/table/tbody/tr[{}]/td[5]'.format(z)).text\n",
    "                actual_weight = driver.find_element_by_xpath('/html/body/div[1]/div[5]/table/tbody/tr[{}]/td[6]'.format(z)).text\n",
    "                declared_horse_weight = driver.find_element_by_xpath('/html/body/div[1]/div[5]/table/tbody/tr[{}]/td[7]'.format(z)).text\n",
    "                draw = driver.find_element_by_xpath('/html/body/div[1]/div[5]/table/tbody/tr[{}]/td[8]'.format(z)).text\n",
    "                length_behind_winner = driver.find_element_by_xpath('/html/body/div[1]/div[5]/table/tbody/tr[{}]/td[9]'.format(z)).text\n",
    "                positions = len(driver.find_element_by_xpath('/html/body/div[1]/div[5]/table/tbody/tr[{}]/td[10]'.format(z)).text.split(' '))\n",
    "                try:\n",
    "                    running_position_1 = driver.find_element_by_xpath('/html/body/div[1]/div[5]/table/tbody/tr[{}]/td[10]'.format(z)).text.split(' ')[0]\n",
    "                except:\n",
    "                    running_position_1 = 'None'\n",
    "                try:\n",
    "                    running_position_2 = driver.find_element_by_xpath('/html/body/div[1]/div[5]/table/tbody/tr[{}]/td[10]'.format(z)).text.split(' ')[1]\n",
    "                except:\n",
    "                    running_position_2 = 'None'\n",
    "                try:\n",
    "                    running_position_3 = driver.find_element_by_xpath('/html/body/div[1]/div[5]/table/tbody/tr[{}]/td[10]'.format(z)).text.split(' ')[2]\n",
    "                except:\n",
    "                    running_position_3 = 'None'\n",
    "                try:\n",
    "                    running_position_4 = driver.find_element_by_xpath('/html/body/div[1]/div[5]/table/tbody/tr[{}]/td[10]'.format(z)).text.split(' ')[3]\n",
    "                except:\n",
    "                    running_position_4 = 'None'\n",
    "                try:\n",
    "                    running_position_5 = driver.find_element_by_xpath('/html/body/div[1]/div[5]/table/tbody/tr[{}]/td[10]'.format(z)).text.split(' ')[4]\n",
    "                except:\n",
    "                    running_position_5 = 'None'\n",
    "                try:\n",
    "                    running_position_6 = driver.find_element_by_xpath('/html/body/div[1]/div[5]/table/tbody/tr[{}]/td[10]'.format(z)).text.split(' ')[5]\n",
    "                except:\n",
    "                    running_position_6 = 'None'\n",
    "                finish_time = driver.find_element_by_xpath('/html/body/div[1]/div[5]/table/tbody/tr[{}]/td[11]'.format(z)).text\n",
    "                win_odds = driver.find_element_by_xpath('/html/body/div[1]/div[5]/table/tbody/tr[{}]/td[12]'.format(z)).text\n",
    "\n",
    "                year = driver.find_element_by_xpath('/html/body/div[1]/div[3]/p/span[1]').text.split('/')[2].split(' ')[0]\n",
    "                race_index = driver.find_element_by_xpath('/html/body/div[1]/div[4]/table/thead/tr/td[1]').text.split('(')[1].strip(')')\n",
    "                race_id = year + '-' + race_index\n",
    "\n",
    "                day = driver.find_element_by_xpath('/html/body/div[1]/div[3]/p/span[1]').text.split('  ')[1].split('/')[0]\n",
    "                month = driver.find_element_by_xpath('/html/body/div[1]/div[3]/p/span[1]').text.split('  ')[1].split('/')[1]\n",
    "                race_number = driver.find_element_by_xpath('/html/body/div[1]/div[4]/table/thead/tr/td[1]').text.split(' ')[1]\n",
    "                src = year + month + day + '-' + race_number + '.html'\n",
    "                race_date = year + '-' + month + '-' + day\n",
    "                race_course = driver.find_element_by_xpath('/html/body/div[1]/div[3]/p/span[1]').text.split('  ')[2].lstrip()\n",
    "                race_class = driver.find_element_by_xpath('/html/body/div[1]/div[4]/table/tbody/tr[2]/td[1]').text.split(' - ')[0]\n",
    "                race_distance = driver.find_element_by_xpath('/html/body/div[1]/div[4]/table/tbody/tr[2]/td[1]').text.split(' - ')[1].strip('M')\n",
    "                track_condition = driver.find_element_by_xpath('/html/body/div[1]/div[4]/table/tbody/tr[2]/td[3]').text\n",
    "                race_name = driver.find_element_by_xpath('/html/body/div[1]/div[4]/table/tbody/tr[3]/td[1]').text\n",
    "                track = driver.find_element_by_xpath('/html/body/div[1]/div[4]/table/tbody/tr[3]/td[3]').text\n",
    "                sectional_time = driver.find_element_by_xpath('/html/body/div[1]/div[4]/table/tbody/tr[5]').text.split(' : ')[1]\n",
    "                incident_report = driver.find_element_by_xpath('/html/body/div[1]/div[7]/div/p[2]').text\n",
    "                race_stats = {'finishing_position' : finishing_position, 'horse_number' : horse_number, 'horse_name' : horse_name, \n",
    "                 'horse_id' : horse_id, 'jockey' : jockey, 'trainer' : trainer, 'actual_weight' : actual_weight,\n",
    "                 'declared_horse_weight' : declared_horse_weight, 'draw' : draw, 'length_behind_winner' : length_behind_winner, \n",
    "                 'running_position_1' : running_position_1, 'running_position_2' : running_position_2, \n",
    "                 'running_position_3' : running_position_3, 'running_position_4' : running_position_4, \n",
    "                 'running_position_5' : running_position_5, 'running_position_6' : running_position_6, \n",
    "                 'finish_time' : finish_time, 'win_odds' : win_odds, 'race_id' : race_id, 'race_number' : race_number, \n",
    "                 'src' : src, 'race_date' : race_date, 'race_course' : race_course, 'race_class' : race_class, \n",
    "                 'race_distance' : race_distance, 'track_condition' : track_condition, 'race_name' : race_name, \n",
    "                 'track' : track, 'sectional_time' : sectional_time, 'incident_report' : incident_report}\n",
    "    \n",
    "                races_scraped.append(race_stats)\n",
    "            except:\n",
    "                pass\n",
    "\n",
    "driver.quit()"
   ]
  },
  {
   "cell_type": "code",
   "execution_count": 216,
   "metadata": {},
   "outputs": [],
   "source": [
    "# races_2020_04_01 = races_scraped"
   ]
  },
  {
   "cell_type": "code",
   "execution_count": 235,
   "metadata": {},
   "outputs": [],
   "source": [
    "# races_2020_04_05 = races_scraped"
   ]
  },
  {
   "cell_type": "code",
   "execution_count": 291,
   "metadata": {},
   "outputs": [
    {
     "name": "stdout",
     "output_type": "stream",
     "text": [
      "['RACE 1 (545)', 'RACE 2 (546)', 'RACE 3 (547)', 'RACE 4 (548)', 'RACE 5 (549)', 'RACE 6 (550)', 'RACE 7 (551)', 'RACE 8 (552)', 'RACE 9 (553)', 'RACE 10 (554)']\n"
     ]
    }
   ],
   "source": [
    "url = \"https://racing.hkjc.com/racing/information/English/racing/LocalResults.aspx\"\n",
    "driver = webdriver.Chrome(executable_path=r'/Users/timothyphugele/Downloads/chromedriver')\n",
    "driver.get(url)\n",
    "\n",
    "time.sleep(1)\n",
    "select = Select(driver.find_element_by_xpath('/html/body/div[1]/div[3]/p/span[2]/select'))\n",
    "\n",
    "\n",
    "select.select_by_visible_text('05/04/2020')\n",
    "driver.find_element_by_xpath('/html/body/div[1]/div[3]/p/span[2]/a').click()\n",
    "time.sleep(1)\n",
    "\n",
    "num_of_races = list(range(len(driver.find_elements_by_xpath('/html/body/div[1]/div[2]/table/tbody/tr/td/a'))))\n",
    "res = [x + 2 for x in num_of_races]\n",
    "race_list = ['empty']\n",
    "for i in res:\n",
    "    driver.find_element_by_xpath('/html/body/div[1]/div[2]/table/tbody/tr/td[{}]'.format(i)).click()\n",
    "    new_race = driver.find_element_by_xpath('/html/body/div[1]/div[4]/table/thead/tr/td').text\n",
    "    if new_race != race_list[-1]:\n",
    "        race_list.append(new_race)\n",
    "    else:\n",
    "        pass\n",
    "race_list.remove('empty')\n",
    "\n",
    "print(race_list)"
   ]
  },
  {
   "cell_type": "markdown",
   "metadata": {},
   "source": [
    "Find out how to control for missing space in race number links due to race at other track."
   ]
  },
  {
   "cell_type": "code",
   "execution_count": 298,
   "metadata": {},
   "outputs": [
    {
     "data": {
      "text/plain": [
       "143"
      ]
     },
     "execution_count": 298,
     "metadata": {},
     "output_type": "execute_result"
    }
   ],
   "source": [
    "len(races_scraped)"
   ]
  },
  {
   "cell_type": "code",
   "execution_count": 303,
   "metadata": {},
   "outputs": [],
   "source": [
    "# races_2020_03_29 = races_scraped"
   ]
  },
  {
   "cell_type": "code",
   "execution_count": 1,
   "metadata": {},
   "outputs": [],
   "source": [
    "target = 'win'"
   ]
  },
  {
   "cell_type": "code",
   "execution_count": 2,
   "metadata": {},
   "outputs": [
    {
     "ename": "NameError",
     "evalue": "name 'horse' is not defined",
     "output_type": "error",
     "traceback": [
      "\u001b[0;31m---------------------------------------------------------------------------\u001b[0m",
      "\u001b[0;31mNameError\u001b[0m                                 Traceback (most recent call last)",
      "\u001b[0;32m<ipython-input-2-bf0c6d97f995>\u001b[0m in \u001b[0;36m<module>\u001b[0;34m\u001b[0m\n\u001b[0;32m----> 1\u001b[0;31m \u001b[0mhorse\u001b[0m\u001b[0;34m[\u001b[0m\u001b[0mtarget\u001b[0m\u001b[0;34m]\u001b[0m \u001b[0;34m=\u001b[0m \u001b[0;34m(\u001b[0m\u001b[0mhorse\u001b[0m\u001b[0;34m[\u001b[0m\u001b[0;34m'finishing_position'\u001b[0m\u001b[0;34m]\u001b[0m\u001b[0;34m.\u001b[0m\u001b[0misin\u001b[0m\u001b[0;34m(\u001b[0m\u001b[0;34m[\u001b[0m\u001b[0;34m'1'\u001b[0m\u001b[0;34m,\u001b[0m \u001b[0;34m'1 DH'\u001b[0m\u001b[0;34m]\u001b[0m\u001b[0;34m)\u001b[0m\u001b[0;34m)\u001b[0m\u001b[0;34m.\u001b[0m\u001b[0mastype\u001b[0m\u001b[0;34m(\u001b[0m\u001b[0mnp\u001b[0m\u001b[0;34m.\u001b[0m\u001b[0mint\u001b[0m\u001b[0;34m)\u001b[0m\u001b[0;34m\u001b[0m\u001b[0;34m\u001b[0m\u001b[0m\n\u001b[0m",
      "\u001b[0;31mNameError\u001b[0m: name 'horse' is not defined"
     ]
    }
   ],
   "source": [
    "(horse['finishing_position'].isin(['1', '1 DH'])).astype(np.int)"
   ]
  },
  {
   "cell_type": "code",
   "execution_count": 2,
   "metadata": {},
   "outputs": [],
   "source": [
    "# Next Steps"
   ]
  },
  {
   "cell_type": "code",
   "execution_count": null,
   "metadata": {},
   "outputs": [],
   "source": []
  }
 ],
 "metadata": {
  "kernelspec": {
   "display_name": "Python [conda env:learn-env] *",
   "language": "python",
   "name": "conda-env-learn-env-py"
  },
  "language_info": {
   "codemirror_mode": {
    "name": "ipython",
    "version": 3
   },
   "file_extension": ".py",
   "mimetype": "text/x-python",
   "name": "python",
   "nbconvert_exporter": "python",
   "pygments_lexer": "ipython3",
   "version": "3.6.9"
  }
 },
 "nbformat": 4,
 "nbformat_minor": 2
}
